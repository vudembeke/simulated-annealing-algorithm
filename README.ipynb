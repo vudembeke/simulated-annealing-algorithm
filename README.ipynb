{
 "cells": [
  {
   "cell_type": "markdown",
   "id": "aa82bea0",
   "metadata": {},
   "source": [
    "# SIMULATED ANNEALING ALGORITHM\n",
    "## Contributors:\n",
    "<p>1. Brianna Vudembeke - Algorithm research, README file </p>\n",
    "<p>1. Nyaga Muthomi Nathaniel V - Algorithm research, Python code, Beamer </p>\n",
    "\n",
    "## Introduction\n",
    "<p> Simulated annealing is a proposed alternative to generic greedy search,hill climbing algorithms. A hill climbing algorithm is really good at finding local optimal solutions but doesn't perform well with global solution.</p>\n",
    "<p> Inspiration simulated Annealing is inspired by the process of annealing in metallurgy. In this natural process a material is heated and slowly cooled under controlled conditions to increase the size of the crystals in the material and reduce their defects. This has the effect of improving the strength and durability of the material. </p>\n",
    "\n",
    "## Simulated Annealing Algorithm\n",
    "<p> Simulated annealing is a probabilistic to finding a global maximum. </p>\n",
    "<p> The main difference in strategy between greedy search and simulated annealing is that greedy search will always choose the best proposal, where the simulated annealing has a probability(using a Boltzman distribution) of choosing a worst proposal than strictly only accepting improvements. </p>\n",
    "<p> This helps the algorithm find a global optimum by jumping out of local optimum. </p>\n",
    "<p> The simulated annealing algorithm goes as follows for a function h(.) that we're trying to maximize:  </p>\n",
    "\n"
   ]
  },
  {
   "cell_type": "markdown",
   "id": "5a51d986",
   "metadata": {},
   "source": [
    "<ol>\n",
    "    <li>Generate an initial candidate solution x</li>\n",
    "    <li>Get an initial Temperature T > 0</li>\n",
    "    <li>For i in 1:N(N = number of iterations):</li>\n",
    "    <ul>\n",
    "    <li>Sample $ \\zeta ~ g(\\zeta)$ where g is a symmetrical distribution.</li>\n",
    "    <li>The new candidate solution is $x' = x ± \\zeta$</li>\n",
    "    <li>Calculate probability $p=exp(\\Delta h/T_{i})$</li>\n",
    "    <li>Accept the candidate solution with probability $p; u U(0, 1)$, accept $x = x'$ if $u \\leq p.$</li>\n",
    "    <li>Update the temperature (cooling), e.g. $T = aT$ where $0 < a < 1$</li>\n",
    "</ul>\n",
    "</ol>\n"
   ]
  },
  {
   "cell_type": "markdown",
   "id": "54a215e4",
   "metadata": {},
   "source": [
    "## Notes on Parameters\n",
    "<p> The greater the value of T (temperature), the greater likelihood of moving around the search space. As T get closer to zero, the algorithm will function like greedy hill climbing </p>\n",
    "<p> Good starting values for T will vary problem by problem. I usually start with 1, 10, 100 and adjust after a few experiments. For a, I normally choose 0.95. However, you can change T by any amount, Robert and Casella suggest a temperature decrease in 1/log(1+i) for i in 1:N\n",
    "\n",
    "## References:\n",
    "<p> Introduction to Monte Carlo Methods with R by Robert and Casella  </p>\n",
    "<p> Optimization by Simuland Annealing: An Experimental Evaluation; Part I, Graph Partitioning  </p>"
   ]
  },
  {
   "cell_type": "code",
   "execution_count": null,
   "id": "77deeb7d",
   "metadata": {},
   "outputs": [],
   "source": []
  }
 ],
 "metadata": {
  "kernelspec": {
   "display_name": "Python 3 (ipykernel)",
   "language": "python",
   "name": "python3"
  },
  "language_info": {
   "codemirror_mode": {
    "name": "ipython",
    "version": 3
   },
   "file_extension": ".py",
   "mimetype": "text/x-python",
   "name": "python",
   "nbconvert_exporter": "python",
   "pygments_lexer": "ipython3",
   "version": "3.9.13"
  }
 },
 "nbformat": 4,
 "nbformat_minor": 5
}
